{
  "nbformat": 4,
  "nbformat_minor": 0,
  "metadata": {
    "colab": {
      "provenance": [],
      "authorship_tag": "ABX9TyN9WlSlrp4z7VTcPYAlxY16",
      "include_colab_link": true
    },
    "kernelspec": {
      "name": "python3",
      "display_name": "Python 3"
    },
    "language_info": {
      "name": "python"
    }
  },
  "cells": [
    {
      "cell_type": "markdown",
      "metadata": {
        "id": "view-in-github",
        "colab_type": "text"
      },
      "source": [
        "<a href=\"https://colab.research.google.com/github/TakdanaiA/Classwork/blob/main/Classwork0.ipynb\" target=\"_parent\"><img src=\"https://colab.research.google.com/assets/colab-badge.svg\" alt=\"Open In Colab\"/></a>"
      ]
    },
    {
      "cell_type": "code",
      "source": [
        "from collections import Counter\n",
        "\n",
        "import numpy as np\n",
        "\n",
        "def count_runs(data):\n",
        "\n",
        "    run_lengths = []\n",
        "    current_run = 0\n",
        "\n",
        "    for i in range(len(data)):\n",
        "        if data[i] == 1:\n",
        "            current_run += 1\n",
        "        else:\n",
        "            if current_run > 0:\n",
        "                run_lengths.append(current_run)\n",
        "            current_run = 0\n",
        "\n",
        "    if current_run > 0:\n",
        "        run_lengths.append(current_run)\n",
        "\n",
        "    return Counter(run_lengths)\n",
        "\n",
        "data1 = [0, 1, 0, 1, 1, 0, 0, 0, 0, 1]\n",
        "print(count_runs(data1))\n",
        "\n",
        "data2 = np.random.randint(0, 2, 1000000)\n",
        "print(count_runs(data2))"
      ],
      "metadata": {
        "colab": {
          "base_uri": "https://localhost:8080/"
        },
        "id": "BP9rt-j5vcOA",
        "outputId": "d5f228db-64a9-4459-d9f8-6619e014beb7"
      },
      "execution_count": 9,
      "outputs": [
        {
          "output_type": "stream",
          "name": "stdout",
          "text": [
            "Counter({1: 2, 2: 1})\n",
            "Counter({1: 125053, 2: 62782, 3: 31067, 4: 15563, 5: 7803, 6: 3940, 7: 2052, 8: 948, 9: 494, 10: 243, 11: 117, 12: 55, 13: 27, 14: 19, 15: 9, 17: 1, 23: 1, 16: 1, 18: 1})\n"
          ]
        }
      ]
    },
    {
      "cell_type": "code",
      "source": [
        "import numpy as np\n",
        "\n",
        "def count_runs(data):\n",
        "\n",
        "    run_lengths = []\n",
        "    current_run = 0\n",
        "\n",
        "    for i in range(len(data)):\n",
        "        if data[i] == 1:\n",
        "            current_run += 1\n",
        "        else:\n",
        "            if current_run > 0:\n",
        "                run_lengths.append(current_run)\n",
        "            current_run = 0\n",
        "\n",
        "    if current_run > 0:\n",
        "        run_lengths.append(current_run)\n",
        "\n",
        "    return max(run_lengths)\n",
        "\n",
        "def run_prob(expts, n, k, p):\n",
        "\n",
        "    num_runs = 0\n",
        "    for _ in range(expts):\n",
        "        data = np.random.binomial(1, p, n)\n",
        "        if count_runs(data) >= k:\n",
        "            num_runs += 1\n",
        "    return num_runs / expts\n",
        "\n",
        "prob_run_5 = run_prob(expts=100000, n=100, k=5, p=0.5)\n",
        "prob_run_7 = run_prob(expts=100000, n=100, k=7, p=0.7)\n",
        "\n",
        "print(f\"(p=0.5): {prob_run_5}\")\n",
        "print(f\"(p=0.7): {prob_run_7}\")"
      ],
      "metadata": {
        "colab": {
          "base_uri": "https://localhost:8080/"
        },
        "id": "s5RKpnXUxFMI",
        "outputId": "3ab82ea4-12fc-4096-d507-03eb2a2dbc59"
      },
      "execution_count": 14,
      "outputs": [
        {
          "output_type": "stream",
          "name": "stdout",
          "text": [
            "(p=0.5): 0.81048\n",
            "(p=0.7): 0.94942\n"
          ]
        }
      ]
    },
    {
      "cell_type": "code",
      "source": [],
      "metadata": {
        "id": "KpZPeKOaxUeC"
      },
      "execution_count": null,
      "outputs": []
    }
  ]
}